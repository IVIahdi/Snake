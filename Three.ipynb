{
 "cells": [
  {
   "cell_type": "code",
   "execution_count": 47,
   "metadata": {},
   "outputs": [
    {
     "name": "stdout",
     "output_type": "stream",
     "text": [
      "Random weights on seed = 14: \n",
      "[[ 0.02788669]\n",
      " [ 0.5463301 ]\n",
      " [ 0.74085537]\n",
      " [-0.9839061 ]]\n",
      "Random weights after training: \n",
      "[[ 9.60254796]\n",
      " [-4.45682738]\n",
      " [-4.29385782]\n",
      " [-0.43031302]]\n",
      "Guessing output of [0, 1, 0,1] =>  [0.00748649]\n"
     ]
    }
   ],
   "source": [
    "from numpy import exp, array, random, dot\n",
    "\n",
    "#One nural network class\n",
    "class NeuralNetwork():\n",
    "    def __init__(self):\n",
    "        #Set random numbers generator, so that it uses the same set of random numbers every time the program starts\n",
    "        #(((Not very important)))\n",
    "        random.seed(14)\n",
    "\n",
    "        #Set the nural network with 4 inputs connections and 1 output connections\n",
    "        #Set random wights to the 4 x 1 matrix from -1 to 1 and mean = 0\n",
    "        self.randomWeights = 2 * random.random((4, 1)) - 1\n",
    "\n",
    "    #This function is to normalise weighted sum between 0 and 1\n",
    "    def __sigmoidGraph(self, x):\n",
    "        return (1 / (1 + exp(-x)))\n",
    "\n",
    "    #This function to show how confident are we about the real weight.\n",
    "    def __sigmoid_derivative(self, x):\n",
    "        return x * (1 - x)\n",
    "\n",
    "    #Train the nural network (trail & error) & change synaptic weights every time\n",
    "    def train(self, trainingInputs, trainingOutputs, numTrainingInputs):\n",
    "        for iteration in range(numTrainingInputs):\n",
    "            # Pass training set through to neural network.\n",
    "            output = self.think(trainingInputs)\n",
    "\n",
    "            #calculate the diffrence between the acual output and the predicted output. \n",
    "            error = trainingOutputs - output\n",
    "\n",
    "            #To calculate the change (adjustment): , we multiply the error by inputs and by the condident level\n",
    "            change = dot(trainingInputs.T, error * self.__sigmoid_derivative(output))\n",
    "\n",
    "            # change weights.\n",
    "            self.randomWeights += change\n",
    "\n",
    "    # function to make the neural network thinks.\n",
    "    def think(self, inputs):\n",
    "        # Pass inputs to  neural network.\n",
    "        return self.__sigmoidGraph(dot(inputs, self.randomWeights))\n",
    "\n",
    "\n",
    "\n",
    "#my nural network\n",
    "neural_network = NeuralNetwork()\n",
    "\n",
    "#print random weights\n",
    "print(\"Random weights on seed = 14: \")\n",
    "print(neural_network.randomWeights)\n",
    "\n",
    "# The training set inputs & outputs\n",
    "TrainingInputs = array([[0, 0, 1,1], [1, 1, 0,1], [1, 0, 1,0], [0, 1, 0,0]])\n",
    "TraniningOutputs = array([[0, 1, 1, 0]]).T\n",
    "\n",
    "# Train the neural network using a training set for 10000 times.\n",
    "neural_network.train(TrainingInputs, TraniningOutputs, 10000)\n",
    "\n",
    "print(\"Random weights after training: \")\n",
    "print (neural_network.randomWeights)\n",
    "\n",
    "# Test the neural network.\n",
    "print(\"Guessing output of [0, 1, 0,1] => \",neural_network.think(array([0, 1,0,1])))"
   ]
  },
  {
   "cell_type": "code",
   "execution_count": null,
   "metadata": {},
   "outputs": [],
   "source": []
  }
 ],
 "metadata": {
  "kernelspec": {
   "display_name": "Python 3.10.4 64-bit",
   "language": "python",
   "name": "python3"
  },
  "language_info": {
   "codemirror_mode": {
    "name": "ipython",
    "version": 3
   },
   "file_extension": ".py",
   "mimetype": "text/x-python",
   "name": "python",
   "nbconvert_exporter": "python",
   "pygments_lexer": "ipython3",
   "version": "3.10.4"
  },
  "orig_nbformat": 4,
  "vscode": {
   "interpreter": {
    "hash": "60b64012b5ed67907a10276cfdedd88214213599e926916fcf8c83729d3a7c3a"
   }
  }
 },
 "nbformat": 4,
 "nbformat_minor": 2
}
