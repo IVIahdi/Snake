{
 "cells": [
  {
   "cell_type": "code",
   "execution_count": 10,
   "metadata": {},
   "outputs": [
    {
     "ename": "SystemExit",
     "evalue": "",
     "output_type": "error",
     "traceback": [
      "An exception has occurred, use %tb to see the full traceback.\n",
      "\u001b[1;31mSystemExit\u001b[0m\n"
     ]
    }
   ],
   "source": [
    "from cmath import exp\n",
    "import random\n",
    "import time\n",
    "import pygame\n",
    "from sys import exit\n",
    "import warnings\n",
    "\n",
    "\n",
    "warnings.filterwarnings(\"ignore\")\n",
    "\n",
    "try:\n",
    "    pygame.init()\n",
    "\n",
    "    h,w = 1000, 800\n",
    "    sc = pygame.display.set_mode((w,h))\n",
    "    pygame.display.set_caption(\"Snake by IVIahdi\")\n",
    "    clock = pygame.time.Clock()\n",
    "\n",
    "    white,black,blue,red=(255,255,255),(0,0,0),(0,0,255),(255,0,0)\n",
    "    font = pygame.font.SysFont(None,30)\n",
    "\n",
    "    speed,block_size = 15,20\n",
    "\n",
    "    def lose(msg,color):\n",
    "        m = font.render(msg, True, color)\n",
    "        sc.blit(m,[w/2-w/3,h/2])\n",
    "\n",
    "    def runGame():\n",
    "        play = True\n",
    "        close = False\n",
    "\n",
    "        y,x = h/2,w/2\n",
    "        yc,xc = 0,0 #c = change\n",
    "\n",
    "        foodx = round(random.randrange(0,w-block_size))\n",
    "        foody = round(random.randrange(0,h-block_size))\n",
    "\n",
    "        while play:\n",
    "            while close:\n",
    "                sc.fill(black)\n",
    "                lose('Game ended! press c to play again, or q to leave',white)\n",
    "                pygame.display.update()\n",
    "\n",
    "                for event in pygame.event.get():\n",
    "                    if event.type == pygame.KEYDOWN:\n",
    "                        match event.key:\n",
    "                            case pygame.K_q:\n",
    "                                play,close = False,False\n",
    "                            case pygame.K_c:\n",
    "                                runGame()\n",
    "\n",
    "\n",
    "            for event in pygame.event.get():\n",
    "                if event.type == pygame.QUIT:\n",
    "                    play = False\n",
    "                if event.type == pygame.KEYDOWN:\n",
    "                    match event.key:\n",
    "                        case pygame.K_DOWN:\n",
    "                            yc,xc = block_size,0\n",
    "                        case pygame.K_UP:\n",
    "                            yc,xc = -block_size,0\n",
    "                        case pygame.K_RIGHT:\n",
    "                            xc,yc = block_size,0\n",
    "                        case pygame.K_LEFT:\n",
    "                            xc,yc = -block_size,0\n",
    "                        case default:\n",
    "                            None\n",
    "            if x>= w or x < 0 or y>=h or y < 0:\n",
    "                close = True\n",
    "            x+=xc\n",
    "            y+=yc\n",
    "            sc.fill(white)\n",
    "            \n",
    "\n",
    "            pygame.draw.rect(sc,blue,[x,y,block_size,block_size])\n",
    "            pygame.draw.rect(sc,red,[foodx,foody,block_size,block_size])\n",
    "            pygame.display.update()\n",
    "\n",
    "            if foodx == x and foody == y:\n",
    "                print('Yummy (:')\n",
    "            clock.tick(speed)\n",
    "            \n",
    "        pygame.quit()\n",
    "        exit()\n",
    "except:\n",
    "    pass\n",
    "\n",
    "runGame()"
   ]
  },
  {
   "cell_type": "code",
   "execution_count": null,
   "metadata": {},
   "outputs": [],
   "source": []
  },
  {
   "cell_type": "code",
   "execution_count": null,
   "metadata": {},
   "outputs": [],
   "source": []
  }
 ],
 "metadata": {
  "kernelspec": {
   "display_name": "Python 3.10.4 64-bit",
   "language": "python",
   "name": "python3"
  },
  "language_info": {
   "codemirror_mode": {
    "name": "ipython",
    "version": 3
   },
   "file_extension": ".py",
   "mimetype": "text/x-python",
   "name": "python",
   "nbconvert_exporter": "python",
   "pygments_lexer": "ipython3",
   "version": "3.10.6"
  },
  "orig_nbformat": 4,
  "vscode": {
   "interpreter": {
    "hash": "60b64012b5ed67907a10276cfdedd88214213599e926916fcf8c83729d3a7c3a"
   }
  }
 },
 "nbformat": 4,
 "nbformat_minor": 2
}
