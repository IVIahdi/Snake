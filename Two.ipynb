{
 "cells": [
  {
   "cell_type": "code",
   "execution_count": 3,
   "metadata": {},
   "outputs": [
    {
     "ename": "SystemExit",
     "evalue": "exiting...",
     "output_type": "error",
     "traceback": [
      "An exception has occurred, use %tb to see the full traceback.\n",
      "\u001b[1;31mSystemExit\u001b[0m\u001b[1;31m:\u001b[0m exiting...\n"
     ]
    }
   ],
   "source": [
    "import time\n",
    "import pygame\n",
    "from sys import exit\n",
    "import warnings\n",
    "\n",
    "\n",
    "pygame.init()\n",
    "\n",
    "h,w = 600, 400\n",
    "sc = pygame.display.set_mode((w,h))\n",
    "pygame.display.set_caption(\"Snake\")\n",
    "\n",
    "\n",
    "white,black,blue=(255,255,255),(0,0,0),(0,0,255)\n",
    "\n",
    "y,x = h/2,w/2\n",
    "\n",
    "yc,xc = 0,0\n",
    "\n",
    "speed = 50\n",
    "block_size = 10\n",
    "\n",
    "font = pygame.font.SysFont(None,50)\n",
    "\n",
    "clock = pygame.time.Clock()\n",
    "\n",
    "def lose(msg,color):\n",
    "    m = font.render(msg, True, color)\n",
    "    sc.blit(m,[w/2,h/2])\n",
    "\n",
    "while True:\n",
    "\n",
    "    for event in pygame.event.get():\n",
    "        if event.type == pygame.QUIT:\n",
    "            pygame.quit()\n",
    "            warnings.filterwarnings('ignore')\n",
    "            exit('exiting...')\n",
    "        if event.type == pygame.KEYDOWN:\n",
    "            match event.key:\n",
    "                case pygame.K_DOWN:\n",
    "                    yc,xc = 8,0\n",
    "                case pygame.K_UP:\n",
    "                    yc,xc = -8,0\n",
    "                case pygame.K_RIGHT:\n",
    "                    xc,yc = 8,0\n",
    "                case pygame.K_LEFT:\n",
    "                    xc,yc = -8,0\n",
    "                case default:\n",
    "                    None\n",
    "                    \n",
    "    x+=xc\n",
    "    y+=yc\n",
    "    sc.fill(white)\n",
    "\n",
    "    if x>= w or x < 0 or y>=h or y < 0:\n",
    "        break\n",
    "\n",
    "    pygame.draw.rect(sc,blue,[x,y,block_size,block_size])\n",
    "    pygame.display.update()\n",
    "    clock.tick(speed)\n",
    "\n",
    "lose(\"GG\", black)\n",
    "pygame.display.update()\n",
    "time.sleep(3)\n",
    "warnings.filterwarnings(\"ignore\")\n",
    "pygame.quit()\n",
    "exit('exiting...')\n",
    "####print(\"\")\n",
    "        "
   ]
  },
  {
   "cell_type": "code",
   "execution_count": null,
   "metadata": {},
   "outputs": [],
   "source": []
  },
  {
   "cell_type": "code",
   "execution_count": null,
   "metadata": {},
   "outputs": [],
   "source": []
  }
 ],
 "metadata": {
  "kernelspec": {
   "display_name": "Python 3.10.4 64-bit",
   "language": "python",
   "name": "python3"
  },
  "language_info": {
   "codemirror_mode": {
    "name": "ipython",
    "version": 3
   },
   "file_extension": ".py",
   "mimetype": "text/x-python",
   "name": "python",
   "nbconvert_exporter": "python",
   "pygments_lexer": "ipython3",
   "version": "3.10.4"
  },
  "orig_nbformat": 4,
  "vscode": {
   "interpreter": {
    "hash": "60b64012b5ed67907a10276cfdedd88214213599e926916fcf8c83729d3a7c3a"
   }
  }
 },
 "nbformat": 4,
 "nbformat_minor": 2
}
