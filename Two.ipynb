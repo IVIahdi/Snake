{
 "cells": [
  {
   "cell_type": "code",
   "execution_count": 10,
   "metadata": {},
   "outputs": [
    {
     "ename": "SystemExit",
     "evalue": "",
     "output_type": "error",
     "traceback": [
      "An exception has occurred, use %tb to see the full traceback.\n",
      "\u001b[1;31mSystemExit\u001b[0m\n"
     ]
    }
   ],
   "source": [
    "from email.policy import default\n",
    "import pygame\n",
    "from sys import exit\n",
    "\n",
    "\n",
    "pygame.init()\n",
    "sc = pygame.display.set_mode((500,400))\n",
    "pygame.display.set_caption(\"Snake\")\n",
    "\n",
    "\n",
    "white,black,red=(255,255,255),(0,0,0),(255,0,0)\n",
    "\n",
    "y,x = 250,200\n",
    "yc,xc = 0,0\n",
    "\n",
    "clock = pygame.time.Clock()\n",
    "\n",
    "while True:\n",
    "    for event in pygame.event.get():\n",
    "        if event.type == pygame.QUIT:\n",
    "            pygame.quit()\n",
    "            exit()\n",
    "        if event.type == pygame.KEYDOWN:\n",
    "            match event.key:\n",
    "                case pygame.K_DOWN:\n",
    "                    yc,xc = 10,0\n",
    "                case pygame.K_UP:\n",
    "                    yc,xc = -10,0\n",
    "                case pygame.K_RIGHT:\n",
    "                    xc,yc = 10,0\n",
    "                case pygame.K_LEFT:\n",
    "                    xc,yc = -10,0\n",
    "                case default:\n",
    "                    None\n",
    "        x+=xc\n",
    "        y+=yc\n",
    "        # sc.fill(white)\n",
    "        pygame.draw.rect(sc,red,[x,y,10,10])\n",
    "        pygame.display.update()\n",
    "        clock.tick(30)\n",
    "        "
   ]
  },
  {
   "cell_type": "code",
   "execution_count": null,
   "metadata": {},
   "outputs": [],
   "source": []
  }
 ],
 "metadata": {
  "kernelspec": {
   "display_name": "Python 3.10.4 64-bit",
   "language": "python",
   "name": "python3"
  },
  "language_info": {
   "codemirror_mode": {
    "name": "ipython",
    "version": 3
   },
   "file_extension": ".py",
   "mimetype": "text/x-python",
   "name": "python",
   "nbconvert_exporter": "python",
   "pygments_lexer": "ipython3",
   "version": "3.10.6"
  },
  "orig_nbformat": 4,
  "vscode": {
   "interpreter": {
    "hash": "60b64012b5ed67907a10276cfdedd88214213599e926916fcf8c83729d3a7c3a"
   }
  }
 },
 "nbformat": 4,
 "nbformat_minor": 2
}
