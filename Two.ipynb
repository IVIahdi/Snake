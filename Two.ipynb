{
 "cells": [
  {
   "cell_type": "code",
   "execution_count": 1,
   "metadata": {},
   "outputs": [
    {
     "name": "stdout",
     "output_type": "stream",
     "text": [
      "pygame 2.1.2 (SDL 2.0.18, Python 3.10.6)\n",
      "Hello from the pygame community. https://www.pygame.org/contribute.html\n"
     ]
    },
    {
     "ename": "TypeError",
     "evalue": "lose() missing 1 required positional argument: 'color'",
     "output_type": "error",
     "traceback": [
      "\u001b[1;31m---------------------------------------------------------------------------\u001b[0m",
      "\u001b[1;31mTypeError\u001b[0m                                 Traceback (most recent call last)",
      "\u001b[1;32mc:\\Users\\mahdi\\OneDrive\\سطح المكتب\\Snake\\Two.ipynb Cell 1\u001b[0m in \u001b[0;36m<cell line: 78>\u001b[1;34m()\u001b[0m\n\u001b[0;32m     <a href='vscode-notebook-cell:/c%3A/Users/mahdi/OneDrive/%D8%B3%D8%B7%D8%AD%20%D8%A7%D9%84%D9%85%D9%83%D8%AA%D8%A8/Snake/Two.ipynb#W0sZmlsZQ%3D%3D?line=75'>76</a>\u001b[0m     pygame\u001b[39m.\u001b[39mquit()\n\u001b[0;32m     <a href='vscode-notebook-cell:/c%3A/Users/mahdi/OneDrive/%D8%B3%D8%B7%D8%AD%20%D8%A7%D9%84%D9%85%D9%83%D8%AA%D8%A8/Snake/Two.ipynb#W0sZmlsZQ%3D%3D?line=76'>77</a>\u001b[0m     quit()\n\u001b[1;32m---> <a href='vscode-notebook-cell:/c%3A/Users/mahdi/OneDrive/%D8%B3%D8%B7%D8%AD%20%D8%A7%D9%84%D9%85%D9%83%D8%AA%D8%A8/Snake/Two.ipynb#W0sZmlsZQ%3D%3D?line=77'>78</a>\u001b[0m runGame()\n",
      "\u001b[1;32mc:\\Users\\mahdi\\OneDrive\\سطح المكتب\\Snake\\Two.ipynb Cell 1\u001b[0m in \u001b[0;36mrunGame\u001b[1;34m()\u001b[0m\n\u001b[0;32m     <a href='vscode-notebook-cell:/c%3A/Users/mahdi/OneDrive/%D8%B3%D8%B7%D8%AD%20%D8%A7%D9%84%D9%85%D9%83%D8%AA%D8%A8/Snake/Two.ipynb#W0sZmlsZQ%3D%3D?line=34'>35</a>\u001b[0m \u001b[39mwhile\u001b[39;00m close:\n\u001b[0;32m     <a href='vscode-notebook-cell:/c%3A/Users/mahdi/OneDrive/%D8%B3%D8%B7%D8%AD%20%D8%A7%D9%84%D9%85%D9%83%D8%AA%D8%A8/Snake/Two.ipynb#W0sZmlsZQ%3D%3D?line=35'>36</a>\u001b[0m     sc\u001b[39m.\u001b[39mfill(black)\n\u001b[1;32m---> <a href='vscode-notebook-cell:/c%3A/Users/mahdi/OneDrive/%D8%B3%D8%B7%D8%AD%20%D8%A7%D9%84%D9%85%D9%83%D8%AA%D8%A8/Snake/Two.ipynb#W0sZmlsZQ%3D%3D?line=36'>37</a>\u001b[0m     lose(\u001b[39m'\u001b[39;49m\u001b[39mGame ended! press c to play again, or q to leave\u001b[39;49m\u001b[39m'\u001b[39;49m)\n\u001b[0;32m     <a href='vscode-notebook-cell:/c%3A/Users/mahdi/OneDrive/%D8%B3%D8%B7%D8%AD%20%D8%A7%D9%84%D9%85%D9%83%D8%AA%D8%A8/Snake/Two.ipynb#W0sZmlsZQ%3D%3D?line=37'>38</a>\u001b[0m     pygame\u001b[39m.\u001b[39mdisplay\u001b[39m.\u001b[39mupdate()\n\u001b[0;32m     <a href='vscode-notebook-cell:/c%3A/Users/mahdi/OneDrive/%D8%B3%D8%B7%D8%AD%20%D8%A7%D9%84%D9%85%D9%83%D8%AA%D8%A8/Snake/Two.ipynb#W0sZmlsZQ%3D%3D?line=39'>40</a>\u001b[0m     \u001b[39mfor\u001b[39;00m event \u001b[39min\u001b[39;00m pygame\u001b[39m.\u001b[39mevent\u001b[39m.\u001b[39mget():\n",
      "\u001b[1;31mTypeError\u001b[0m: lose() missing 1 required positional argument: 'color'"
     ]
    },
    {
     "ename": "",
     "evalue": "",
     "output_type": "error",
     "traceback": [
      "\u001b[1;31mThe Kernel crashed while executing code in the the current cell or a previous cell. Please review the code in the cell(s) to identify a possible cause of the failure. Click <a href='https://aka.ms/vscodeJupyterKernelCrash'>here</a> for more info. View Jupyter <a href='command:jupyter.viewOutput'>log</a> for further details."
     ]
    }
   ],
   "source": [
    "import random\n",
    "import time\n",
    "import pygame\n",
    "from sys import exit\n",
    "import warnings\n",
    "\n",
    "\n",
    "pygame.init()\n",
    "\n",
    "h,w = 600, 400\n",
    "sc = pygame.display.set_mode((w,h))\n",
    "pygame.display.set_caption(\"Snake by IVIahdi\")\n",
    "clock = pygame.time.Clock()\n",
    "\n",
    "white,black,blue=(255,255,255),(0,0,0),(0,0,255)\n",
    "font = pygame.font.SysFont(None,50)\n",
    "\n",
    "speed,block_size = 50,8\n",
    "\n",
    "def lose(msg,color):\n",
    "    m = font.render(msg, True, color)\n",
    "    sc.blit(m,[w/2,h/2])\n",
    "\n",
    "def runGame():\n",
    "    play = True\n",
    "    close = False\n",
    "\n",
    "    y,x = h/2,w/2\n",
    "    yc,xc = 0,0 #c = change\n",
    "\n",
    "    foodx = round(random.randrange(0,w-block_size))\n",
    "    foody = round(random.randrange(0,h-block_size))\n",
    "\n",
    "    while play:\n",
    "        while close:\n",
    "            sc.fill(black)\n",
    "            lose('Game ended! press c to play again, or q to leave',white)\n",
    "            pygame.display.update()\n",
    "\n",
    "            for event in pygame.event.get():\n",
    "                if event.type == pygame.KEYDOWN:\n",
    "                    match event.key:\n",
    "                        case pygame.K_q:\n",
    "                            play,close = True,False\n",
    "                        case pygame.K_c:\n",
    "                            runGame()\n",
    "\n",
    "\n",
    "        for event in pygame.event.get():\n",
    "            if event.type == pygame.QUIT:\n",
    "                play = False\n",
    "            if event.type == pygame.KEYDOWN:\n",
    "                match event.key:\n",
    "                    case pygame.K_DOWN:\n",
    "                        yc,xc = block_size,0\n",
    "                    case pygame.K_UP:\n",
    "                        yc,xc = -block_size,0\n",
    "                    case pygame.K_RIGHT:\n",
    "                        xc,yc = block_size,0\n",
    "                    case pygame.K_LEFT:\n",
    "                        xc,yc = -block_size,0\n",
    "                    case default:\n",
    "                        None\n",
    "        if x>= w or x < 0 or y>=h or y < 0:\n",
    "            close = True\n",
    "        x+=xc\n",
    "        y+=yc\n",
    "        sc.fill(white)\n",
    "\n",
    "        pygame.draw.rect(sc,blue,[x,y,block_size,block_size])\n",
    "        pygame.draw.rect(sc,blue,[foodx,foody,block_size,block_size])\n",
    "        pygame.display.update()\n",
    "        clock.tick(speed)\n",
    "        if foodx == x and foody == y:\n",
    "            print('Yummy (:')\n",
    "    pygame.quit()\n",
    "    quit()\n",
    "runGame()"
   ]
  },
  {
   "cell_type": "code",
   "execution_count": null,
   "metadata": {},
   "outputs": [],
   "source": []
  },
  {
   "cell_type": "code",
   "execution_count": null,
   "metadata": {},
   "outputs": [],
   "source": []
  }
 ],
 "metadata": {
  "kernelspec": {
   "display_name": "Python 3.10.4 64-bit",
   "language": "python",
   "name": "python3"
  },
  "language_info": {
   "codemirror_mode": {
    "name": "ipython",
    "version": 3
   },
   "file_extension": ".py",
   "mimetype": "text/x-python",
   "name": "python",
   "nbconvert_exporter": "python",
   "pygments_lexer": "ipython3",
   "version": "3.10.6"
  },
  "orig_nbformat": 4,
  "vscode": {
   "interpreter": {
    "hash": "60b64012b5ed67907a10276cfdedd88214213599e926916fcf8c83729d3a7c3a"
   }
  }
 },
 "nbformat": 4,
 "nbformat_minor": 2
}
